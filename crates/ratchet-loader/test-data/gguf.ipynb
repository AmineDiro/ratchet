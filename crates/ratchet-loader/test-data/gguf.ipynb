{
 "cells": [
  {
   "cell_type": "code",
   "execution_count": 8,
   "metadata": {},
   "outputs": [
    {
     "name": "stdout",
     "output_type": "stream",
     "text": [
      "gguf: This GGUF file is for Little Endian only\n"
     ]
    },
    {
     "ename": "ValueError",
     "evalue": "Only F32 and F16 tensors are supported for now",
     "output_type": "error",
     "traceback": [
      "\u001b[0;31m---------------------------------------------------------------------------\u001b[0m",
      "\u001b[0;31mValueError\u001b[0m                                Traceback (most recent call last)",
      "Cell \u001b[0;32mIn[8], line 10\u001b[0m\n\u001b[1;32m      7\u001b[0m gguf_writer\u001b[38;5;241m.\u001b[39madd_quantization_version(GGMLQuantizationType\u001b[38;5;241m.\u001b[39mQ4_K)\n\u001b[1;32m      8\u001b[0m tensor1 \u001b[38;5;241m=\u001b[39m np\u001b[38;5;241m.\u001b[39mrandom\u001b[38;5;241m.\u001b[39mrand(\u001b[38;5;241m256\u001b[39m, \u001b[38;5;241m1\u001b[39m)\u001b[38;5;241m.\u001b[39mastype(np\u001b[38;5;241m.\u001b[39mint8)\n\u001b[0;32m---> 10\u001b[0m \u001b[43mgguf_writer\u001b[49m\u001b[38;5;241;43m.\u001b[39;49m\u001b[43madd_tensor\u001b[49m\u001b[43m(\u001b[49m\u001b[38;5;124;43m\"\u001b[39;49m\u001b[38;5;124;43mtensor1\u001b[39;49m\u001b[38;5;124;43m\"\u001b[39;49m\u001b[43m,\u001b[49m\u001b[43m \u001b[49m\u001b[43mtensor1\u001b[49m\u001b[43m)\u001b[49m\n\u001b[1;32m     12\u001b[0m gguf_writer\u001b[38;5;241m.\u001b[39mwrite_header_to_file()\n\u001b[1;32m     13\u001b[0m gguf_writer\u001b[38;5;241m.\u001b[39mwrite_kv_data_to_file()\n",
      "File \u001b[0;32m~/miniforge3/envs/ratchet/lib/python3.10/site-packages/gguf/gguf_writer.py:229\u001b[0m, in \u001b[0;36mGGUFWriter.add_tensor\u001b[0;34m(self, name, tensor, raw_shape, raw_dtype)\u001b[0m\n\u001b[1;32m    226\u001b[0m     \u001b[38;5;28mself\u001b[39m\u001b[38;5;241m.\u001b[39mtemp_file \u001b[38;5;241m=\u001b[39m fp\n\u001b[1;32m    228\u001b[0m shape: Sequence[\u001b[38;5;28mint\u001b[39m] \u001b[38;5;241m=\u001b[39m raw_shape \u001b[38;5;28;01mif\u001b[39;00m raw_shape \u001b[38;5;129;01mis\u001b[39;00m \u001b[38;5;129;01mnot\u001b[39;00m \u001b[38;5;28;01mNone\u001b[39;00m \u001b[38;5;28;01melse\u001b[39;00m tensor\u001b[38;5;241m.\u001b[39mshape\n\u001b[0;32m--> 229\u001b[0m \u001b[38;5;28;43mself\u001b[39;49m\u001b[38;5;241;43m.\u001b[39;49m\u001b[43madd_tensor_info\u001b[49m\u001b[43m(\u001b[49m\u001b[43mname\u001b[49m\u001b[43m,\u001b[49m\u001b[43m \u001b[49m\u001b[43mshape\u001b[49m\u001b[43m,\u001b[49m\u001b[43m \u001b[49m\u001b[43mtensor\u001b[49m\u001b[38;5;241;43m.\u001b[39;49m\u001b[43mdtype\u001b[49m\u001b[43m,\u001b[49m\u001b[43m \u001b[49m\u001b[43mtensor\u001b[49m\u001b[38;5;241;43m.\u001b[39;49m\u001b[43mnbytes\u001b[49m\u001b[43m,\u001b[49m\u001b[43m \u001b[49m\u001b[43mraw_dtype\u001b[49m\u001b[43m \u001b[49m\u001b[38;5;241;43m=\u001b[39;49m\u001b[43m \u001b[49m\u001b[43mraw_dtype\u001b[49m\u001b[43m)\u001b[49m\n\u001b[1;32m    231\u001b[0m \u001b[38;5;28;01mif\u001b[39;00m \u001b[38;5;28mself\u001b[39m\u001b[38;5;241m.\u001b[39mtemp_file \u001b[38;5;129;01mis\u001b[39;00m \u001b[38;5;28;01mNone\u001b[39;00m:\n\u001b[1;32m    232\u001b[0m     \u001b[38;5;28mself\u001b[39m\u001b[38;5;241m.\u001b[39mtensors\u001b[38;5;241m.\u001b[39mappend(tensor)\n",
      "File \u001b[0;32m~/miniforge3/envs/ratchet/lib/python3.10/site-packages/gguf/gguf_writer.py:199\u001b[0m, in \u001b[0;36mGGUFWriter.add_tensor_info\u001b[0;34m(self, name, tensor_shape, tensor_dtype, tensor_nbytes, raw_dtype)\u001b[0m\n\u001b[1;32m    196\u001b[0m     \u001b[38;5;28;01mraise\u001b[39;00m \u001b[38;5;167;01mValueError\u001b[39;00m(\u001b[38;5;124mf\u001b[39m\u001b[38;5;124m'\u001b[39m\u001b[38;5;124mExpected output file to be empty, got \u001b[39m\u001b[38;5;132;01m{\u001b[39;00m\u001b[38;5;28mself\u001b[39m\u001b[38;5;241m.\u001b[39mstate\u001b[38;5;132;01m}\u001b[39;00m\u001b[38;5;124m'\u001b[39m)\n\u001b[1;32m    198\u001b[0m \u001b[38;5;28;01mif\u001b[39;00m raw_dtype \u001b[38;5;129;01mis\u001b[39;00m \u001b[38;5;28;01mNone\u001b[39;00m \u001b[38;5;129;01mand\u001b[39;00m tensor_dtype \u001b[38;5;129;01mnot\u001b[39;00m \u001b[38;5;129;01min\u001b[39;00m (np\u001b[38;5;241m.\u001b[39mfloat32, np\u001b[38;5;241m.\u001b[39mfloat16):\n\u001b[0;32m--> 199\u001b[0m     \u001b[38;5;28;01mraise\u001b[39;00m \u001b[38;5;167;01mValueError\u001b[39;00m(\u001b[38;5;124m\"\u001b[39m\u001b[38;5;124mOnly F32 and F16 tensors are supported for now\u001b[39m\u001b[38;5;124m\"\u001b[39m)\n\u001b[1;32m    201\u001b[0m encoded_name \u001b[38;5;241m=\u001b[39m name\u001b[38;5;241m.\u001b[39mencode(\u001b[38;5;124m\"\u001b[39m\u001b[38;5;124mutf8\u001b[39m\u001b[38;5;124m\"\u001b[39m)\n\u001b[1;32m    202\u001b[0m \u001b[38;5;28mself\u001b[39m\u001b[38;5;241m.\u001b[39mti_data \u001b[38;5;241m+\u001b[39m\u001b[38;5;241m=\u001b[39m \u001b[38;5;28mself\u001b[39m\u001b[38;5;241m.\u001b[39m_pack(\u001b[38;5;124m\"\u001b[39m\u001b[38;5;124mQ\u001b[39m\u001b[38;5;124m\"\u001b[39m, \u001b[38;5;28mlen\u001b[39m(encoded_name))\n",
      "\u001b[0;31mValueError\u001b[0m: Only F32 and F16 tensors are supported for now"
     ]
    }
   ],
   "source": [
    "\n",
    "from gguf import GGUFWriter, GGUFReader, GGMLQuantizationType  # noqa: E402\n",
    "import numpy as np\n",
    "\n",
    "gguf_writer = GGUFWriter(\"q4k_test.gguf\", \"llama\")\n",
    "\n",
    "gguf_writer.add_block_count(256)\n",
    "gguf_writer.add_quantization_version(GGMLQuantizationType.Q4_K)\n",
    "tensor1 = np.random.rand(256, 1).astype(np.float32)\n",
    "\n",
    "gguf_writer.add_tensor(\"tensor1\", tensor1)\n",
    "\n",
    "gguf_writer.write_header_to_file()\n",
    "gguf_writer.write_kv_data_to_file()\n",
    "gguf_writer.write_tensors_to_file()\n",
    "\n",
    "gguf_writer.close()"
   ]
  },
  {
   "cell_type": "code",
   "execution_count": 7,
   "metadata": {},
   "outputs": [
    {
     "name": "stdout",
     "output_type": "stream",
     "text": [
      "ReaderTensor(name='tensor1', tensor_type=<GGMLQuantizationType.F32: 0>, shape=memmap([  1, 256], dtype=uint64), n_elements=256, n_bytes=1024.0, data_offset=224, data=memmap([0.02351097, 0.7182942 , 0.8516493 , 0.00592232, 0.9849484 ,\n",
      "        0.43535432, 0.39048335, 0.9529219 , 0.1728388 , 0.3225287 ,\n",
      "        0.83070505, 0.25604162, 0.26848894, 0.9136551 , 0.29008177,\n",
      "        0.03020962, 0.58865684, 0.97946167, 0.67877775, 0.6902881 ,\n",
      "        0.1681769 , 0.5121938 , 0.21405621, 0.1769772 , 0.17475474,\n",
      "        0.7554712 , 0.27043152, 0.69796234, 0.10643438, 0.808825  ,\n",
      "        0.06604339, 0.7534115 , 0.34520507, 0.9603361 , 0.00578728,\n",
      "        0.8770561 , 0.99970996, 0.7565968 , 0.75024825, 0.9624611 ,\n",
      "        0.5006252 , 0.20196751, 0.18159135, 0.17694663, 0.51913285,\n",
      "        0.342636  , 0.18408372, 0.35264117, 0.980107  , 0.20450328,\n",
      "        0.9094306 , 0.6135112 , 0.2641653 , 0.76276016, 0.03347729,\n",
      "        0.6391676 , 0.95941657, 0.99445426, 0.04918022, 0.09878348,\n",
      "        0.46651712, 0.5272318 , 0.14102164, 0.59483975, 0.36266693,\n",
      "        0.5014312 , 0.13083819, 0.25948966, 0.35559818, 0.70623034,\n",
      "        0.06868412, 0.4344075 , 0.9064941 , 0.48851034, 0.06888047,\n",
      "        0.54460883, 0.02100476, 0.38755834, 0.9863693 , 0.5585748 ,\n",
      "        0.3794563 , 0.15904984, 0.32844213, 0.7557246 , 0.7861847 ,\n",
      "        0.91672647, 0.30784053, 0.6425497 , 0.912511  , 0.36799034,\n",
      "        0.4214074 , 0.61106163, 0.20352775, 0.687092  , 0.17088537,\n",
      "        0.39385623, 0.9619865 , 0.82832736, 0.14622107, 0.86598694,\n",
      "        0.25042495, 0.69301087, 0.7017619 , 0.49285188, 0.26589268,\n",
      "        0.02662836, 0.45842558, 0.42873675, 0.37798446, 0.6863191 ,\n",
      "        0.6578303 , 0.7358859 , 0.6452941 , 0.6730115 , 0.40736657,\n",
      "        0.7637633 , 0.73949206, 0.6354493 , 0.69660217, 0.8672471 ,\n",
      "        0.0758989 , 0.7670251 , 0.8839939 , 0.66248554, 0.04696762,\n",
      "        0.5715067 , 0.4433848 , 0.966339  , 0.9290693 , 0.5862904 ,\n",
      "        0.95711666, 0.7056117 , 0.8968474 , 0.5521201 , 0.13306512,\n",
      "        0.9162772 , 0.36543557, 0.4219975 , 0.6555778 , 0.03442071,\n",
      "        0.71964276, 0.6521708 , 0.3197995 , 0.04186277, 0.18766516,\n",
      "        0.69207656, 0.633108  , 0.8333347 , 0.3789672 , 0.49441192,\n",
      "        0.9177467 , 0.14751953, 0.53777057, 0.48747712, 0.43487746,\n",
      "        0.8699644 , 0.36231393, 0.8352614 , 0.68172884, 0.73567003,\n",
      "        0.47767493, 0.08790477, 0.7259501 , 0.09592119, 0.57430214,\n",
      "        0.00639215, 0.36530697, 0.7851734 , 0.9926545 , 0.65371144,\n",
      "        0.87105024, 0.4213287 , 0.8642656 , 0.3218968 , 0.4900511 ,\n",
      "        0.64059204, 0.5782885 , 0.53204983, 0.32044938, 0.62050384,\n",
      "        0.8745642 , 0.64028496, 0.02038411, 0.17799364, 0.23918693,\n",
      "        0.57075065, 0.39222655, 0.17513464, 0.5973822 , 0.7552275 ,\n",
      "        0.77815187, 0.83669496, 0.1630902 , 0.3815091 , 0.03904942,\n",
      "        0.49890605, 0.2430667 , 0.06980988, 0.5264719 , 0.59749764,\n",
      "        0.7483781 , 0.6781546 , 0.2514812 , 0.95858294, 0.7095617 ,\n",
      "        0.0396586 , 0.6209244 , 0.12418177, 0.2348803 , 0.2941714 ,\n",
      "        0.6726013 , 0.58859366, 0.14741093, 0.6085208 , 0.12173684,\n",
      "        0.55738807, 0.05764764, 0.9405963 , 0.98338324, 0.5096866 ,\n",
      "        0.84115744, 0.9566036 , 0.34747788, 0.81030697, 0.650352  ,\n",
      "        0.23266762, 0.78544414, 0.47146118, 0.9926387 , 0.12121075,\n",
      "        0.88072777, 0.46971923, 0.8363499 , 0.0876813 , 0.5882238 ,\n",
      "        0.8173029 , 0.776955  , 0.31449252, 0.34476265, 0.0484052 ,\n",
      "        0.12584902, 0.01279526, 0.09270284, 0.07068045, 0.16430922,\n",
      "        0.47753158, 0.07554177, 0.35787275, 0.15076248, 0.7388968 ,\n",
      "        0.0103635 , 0.65207696, 0.46836397, 0.6175017 , 0.3971531 ,\n",
      "        0.5533962 ], dtype=float32), field=ReaderField(offset=146, name='tensor1', parts=[memmap([7], dtype=uint64), memmap([116, 101, 110, 115, 111, 114,  49], dtype=uint8), memmap([2], dtype=uint32), memmap([  1, 256], dtype=uint64), memmap([0], dtype=uint32), memmap([0], dtype=uint64)], data=[1, 3, 4, 5], types=[]))\n"
     ]
    }
   ],
   "source": [
    "gguf_reader = GGUFReader(\"q4k_test.gguf\")\n",
    "tensor = gguf_reader.get_tensor(0)\n",
    "\n",
    "print(tensor)"
   ]
  }
 ],
 "metadata": {
  "kernelspec": {
   "display_name": "ratchet",
   "language": "python",
   "name": "python3"
  },
  "language_info": {
   "codemirror_mode": {
    "name": "ipython",
    "version": 3
   },
   "file_extension": ".py",
   "mimetype": "text/x-python",
   "name": "python",
   "nbconvert_exporter": "python",
   "pygments_lexer": "ipython3",
   "version": "3.10.13"
  }
 },
 "nbformat": 4,
 "nbformat_minor": 2
}
